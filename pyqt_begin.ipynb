{
 "cells": [
  {
   "cell_type": "markdown",
   "metadata": {},
   "source": [
    "창 및 위젯 크기 지정"
   ]
  },
  {
   "cell_type": "code",
   "execution_count": null,
   "metadata": {
    "slideshow": {
     "slide_type": "notes"
    }
   },
   "outputs": [],
   "source": [
    "import sys\n",
    "from PyQt6.QtCore import QSize, Qt\n",
    "from PyQt6.QtWidgets import QApplication, QMainWindow, QPushButton\n",
    "\n",
    "class MyWin(QMainWindow):\n",
    "    def __init__(self):\n",
    "        super().__init__()\n",
    "        self.setWindowTitle('hi..창 크기 조절')\n",
    "        btn = QPushButton('난 버튼')\n",
    "        self.setFixedSize(QSize(400,300))\n",
    "        self.setCentralWidget(btn)\n",
    "\n",
    "if __name__ == \"__main__\":\n",
    "    app = QApplication(sys.argv)\n",
    "    win = MyWin()\n",
    "    win.show()\n",
    "\n",
    "    sys.exit(app.exec())"
   ]
  },
  {
   "cell_type": "markdown",
   "metadata": {},
   "source": [
    "# 시그널 & 슬롯\n",
    "* 시그널\n",
    "    * 어떤 일이 발생했을 때 위젯에서 발출되는 알림\n",
    "\n",
    "* 슬롯\n",
    "    * Qt가 신호 수신기에 사용하는 이름\n",
    "    * 응용 프로그램의 모든 함수를 신호를 연결하기만 하면 슬롯으로 사용할 수 있다.\n",
    "    * Qt위젯에는 자체 슬롯이 있어 Qt위젯을 직접 연결할 수 있다."
   ]
  },
  {
   "cell_type": "code",
   "execution_count": null,
   "metadata": {},
   "outputs": [
    {
     "ename": "",
     "evalue": "",
     "output_type": "error",
     "traceback": [
      "\u001b[1;31m현재 셀 또는 이전 셀에서 코드를 실행하는 동안 Kernel이 충돌했습니다. \n",
      "\u001b[1;31m셀의 코드를 검토하여 가능한 오류 원인을 식별하세요. \n",
      "\u001b[1;31m자세한 내용을 보려면 <a href='https://aka.ms/vscodeJupyterKernelCrash'>여기</a>를 클릭하세요. \n",
      "\u001b[1;31m자세한 내용은 Jupyter <a href='command:jupyter.viewOutput'>로그</a>를 참조하세요."
     ]
    }
   ],
   "source": [
    "import sys\n",
    "from PyQt6.QtCore import QSize, Qt\n",
    "from PyQt6.QtWidgets import QApplication, QMainWindow, QPushButton\n",
    "\n",
    "class MyWin(QMainWindow):\n",
    "    def __init__(self):\n",
    "        super().__init__()\n",
    "        self.setWindowTitle('hi..창 크기 조절')\n",
    "        btn = QPushButton('난 버튼')\n",
    "        btn.setCheckable(True)\n",
    "        self.setFixedSize(QSize(400,300))\n",
    "        self.setCentralWidget(btn)\n",
    "\n",
    "if __name__ == \"__main__\":\n",
    "    app = QApplication(sys.argv)\n",
    "    win = MyWin()\n",
    "    win.show()\n",
    "\n",
    "    sys.exit(app.exec())"
   ]
  }
 ],
 "metadata": {
  "kernelspec": {
   "display_name": "Python 3",
   "language": "python",
   "name": "python3"
  },
  "language_info": {
   "codemirror_mode": {
    "name": "ipython",
    "version": 3
   },
   "file_extension": ".py",
   "mimetype": "text/x-python",
   "name": "python",
   "nbconvert_exporter": "python",
   "pygments_lexer": "ipython3",
   "version": "3.12.2"
  }
 },
 "nbformat": 4,
 "nbformat_minor": 2
}
